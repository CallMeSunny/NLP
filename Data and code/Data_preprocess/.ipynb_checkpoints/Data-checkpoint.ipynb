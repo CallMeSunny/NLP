{
 "cells": [
  {
   "cell_type": "code",
   "execution_count": 184,
   "metadata": {},
   "outputs": [],
   "source": [
    "import pandas as pd\n",
    "import numpy as np\n",
    "import os\n",
    "import nltk"
   ]
  },
  {
   "cell_type": "code",
   "execution_count": 185,
   "metadata": {},
   "outputs": [],
   "source": [
    "ad = '/home/sunny/ML/NLP/Project/English/Express/txt_file_Community/'\n",
    "#txt_file_Dream  txt_file_Belt  txt_file_Community\n",
    "#Dailymail  Express The_Sun"
   ]
  },
  {
   "cell_type": "code",
   "execution_count": 186,
   "metadata": {},
   "outputs": [],
   "source": [
    "Sum = len([name for name in os.listdir(ad) if os.path.isfile(os.path.join(ad, name))])"
   ]
  },
  {
   "cell_type": "code",
   "execution_count": 187,
   "metadata": {},
   "outputs": [],
   "source": [
    "count = 1\n",
    "text = []\n",
    "for j in range(Sum):\n",
    "    data = open(ad + str(count) + '.txt','r+')\n",
    "    txt = str()\n",
    "    for i in data:\n",
    "        txt = txt + str(i)\n",
    "    txt = txt.split('\\n') \n",
    "    if len(txt) <= 4:\n",
    "        count = count+1\n",
    "        continue\n",
    "    tx = [] \n",
    "    for i in range(3):\n",
    "        tx.append(txt[i])\n",
    "    te = str()\n",
    "    for i in txt[3:]:\n",
    "        te = te + i\n",
    "    tx.append(te)\n",
    "    text.append(tx)\n",
    "    count = count+1"
   ]
  },
  {
   "cell_type": "code",
   "execution_count": 188,
   "metadata": {},
   "outputs": [],
   "source": [
    "header=['Title','Url','Time','Content']\n",
    "test=pd.DataFrame(columns=header,data=text)\n",
    "test.to_csv('Express/Community.csv',encoding = 'utf-8')"
   ]
  },
  {
   "cell_type": "code",
   "execution_count": null,
   "metadata": {},
   "outputs": [],
   "source": []
  },
  {
   "cell_type": "code",
   "execution_count": null,
   "metadata": {},
   "outputs": [],
   "source": []
  }
 ],
 "metadata": {
  "kernelspec": {
   "display_name": "Python 3",
   "language": "python",
   "name": "python3"
  },
  "language_info": {
   "codemirror_mode": {
    "name": "ipython",
    "version": 3
   },
   "file_extension": ".py",
   "mimetype": "text/x-python",
   "name": "python",
   "nbconvert_exporter": "python",
   "pygments_lexer": "ipython3",
   "version": "3.6.5"
  }
 },
 "nbformat": 4,
 "nbformat_minor": 2
}
